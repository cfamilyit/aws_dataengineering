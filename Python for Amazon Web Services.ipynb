{
 "cells": [
  {
   "cell_type": "markdown",
   "id": "85248ddf",
   "metadata": {},
   "source": [
    "## <center> Python Programming Introduction</center>"
   ]
  },
  {
   "cell_type": "code",
   "execution_count": 4,
   "id": "b50ad214",
   "metadata": {},
   "outputs": [
    {
     "name": "stdout",
     "output_type": "stream",
     "text": [
      "Welcome to Python World..!\n"
     ]
    }
   ],
   "source": [
    "print(\"Welcome to Python World..!\")"
   ]
  },
  {
   "cell_type": "code",
   "execution_count": 5,
   "id": "bf0a5ffd",
   "metadata": {},
   "outputs": [
    {
     "name": "stdout",
     "output_type": "stream",
     "text": [
      "A is: 10\n",
      "B is: 20\n",
      "Sum of A,B is: 30\n"
     ]
    }
   ],
   "source": [
    "a = 10\n",
    "b = 20\n",
    "res = a+b\n",
    "print(\"A is:\",a)\n",
    "print(\"B is:\",b)\n",
    "print(\"Sum of A,B is:\",res)"
   ]
  },
  {
   "cell_type": "code",
   "execution_count": null,
   "id": "587dbd6b",
   "metadata": {},
   "outputs": [],
   "source": []
  },
  {
   "cell_type": "markdown",
   "id": "ab1223a3",
   "metadata": {},
   "source": [
    "## <center> Python Programming Indentation Rules </center> "
   ]
  },
  {
   "cell_type": "code",
   "execution_count": 1,
   "id": "fb7bc1d9",
   "metadata": {},
   "outputs": [
    {
     "name": "stdout",
     "output_type": "stream",
     "text": [
      "Welcome to Python World..!\n"
     ]
    }
   ],
   "source": [
    "print(\"Welcome to Python World..!\")"
   ]
  },
  {
   "cell_type": "code",
   "execution_count": 2,
   "id": "4ab13b29",
   "metadata": {},
   "outputs": [
    {
     "name": "stdout",
     "output_type": "stream",
     "text": [
      "Welcome to Python World..!\n"
     ]
    }
   ],
   "source": [
    "   print(\"Welcome to Python World..!\")"
   ]
  },
  {
   "cell_type": "code",
   "execution_count": 6,
   "id": "4c703211",
   "metadata": {},
   "outputs": [
    {
     "ename": "IndentationError",
     "evalue": "unexpected indent (3694377228.py, line 2)",
     "output_type": "error",
     "traceback": [
      "\u001b[1;36m  File \u001b[1;32m\"C:\\Users\\Admin\\AppData\\Local\\Temp\\ipykernel_6036\\3694377228.py\"\u001b[1;36m, line \u001b[1;32m2\u001b[0m\n\u001b[1;33m    print(\"Welcome2\")\u001b[0m\n\u001b[1;37m    ^\u001b[0m\n\u001b[1;31mIndentationError\u001b[0m\u001b[1;31m:\u001b[0m unexpected indent\n"
     ]
    }
   ],
   "source": [
    "print(\"Welcome1\")\n",
    "    print(\"Welcome2\")\n"
   ]
  },
  {
   "cell_type": "code",
   "execution_count": null,
   "id": "90f50273",
   "metadata": {},
   "outputs": [],
   "source": []
  },
  {
   "cell_type": "code",
   "execution_count": 7,
   "id": "326ddeb5",
   "metadata": {},
   "outputs": [
    {
     "name": "stdout",
     "output_type": "stream",
     "text": [
      "10 is greater than 5\n"
     ]
    }
   ],
   "source": [
    "if 10>5:\n",
    "    print(\"10 is greater than 5\")\n",
    "else:\n",
    "    print(\"10 is not greater than 5\")"
   ]
  },
  {
   "cell_type": "code",
   "execution_count": null,
   "id": "9955df36",
   "metadata": {},
   "outputs": [],
   "source": []
  },
  {
   "cell_type": "code",
   "execution_count": 8,
   "id": "7e2d7cde",
   "metadata": {},
   "outputs": [
    {
     "name": "stdout",
     "output_type": "stream",
     "text": [
      "Welcome1\n",
      "Welcome2\n",
      "Welcome3\n"
     ]
    }
   ],
   "source": [
    "if 10>5:\n",
    "    print(\"Welcome1\")\n",
    "    print(\"Welcome2\")\n",
    "    print(\"Welcome3\")"
   ]
  },
  {
   "cell_type": "code",
   "execution_count": 9,
   "id": "726c73ee",
   "metadata": {},
   "outputs": [
    {
     "name": "stdout",
     "output_type": "stream",
     "text": [
      "Welcome1\n",
      "Welcome2\n",
      "Welcome3\n",
      "Welcome4\n"
     ]
    }
   ],
   "source": [
    "if 10>5:\n",
    "    print(\"Welcome1\")\n",
    "    print(\"Welcome2\")\n",
    "    print(\"Welcome3\")\n",
    "print(\"Welcome4\")"
   ]
  },
  {
   "cell_type": "code",
   "execution_count": null,
   "id": "24ad45a1",
   "metadata": {},
   "outputs": [],
   "source": []
  },
  {
   "cell_type": "code",
   "execution_count": 10,
   "id": "d5bf5265",
   "metadata": {},
   "outputs": [
    {
     "name": "stdout",
     "output_type": "stream",
     "text": [
      "Welcome4\n"
     ]
    }
   ],
   "source": [
    "if 10<5:\n",
    "    print(\"Welcome1\")\n",
    "    print(\"Welcome2\")\n",
    "    print(\"Welcome3\")\n",
    "print(\"Welcome4\")"
   ]
  },
  {
   "cell_type": "code",
   "execution_count": null,
   "id": "cb6f5e35",
   "metadata": {},
   "outputs": [],
   "source": []
  },
  {
   "cell_type": "code",
   "execution_count": 11,
   "id": "f1574a65",
   "metadata": {},
   "outputs": [
    {
     "name": "stdout",
     "output_type": "stream",
     "text": [
      "Welcome1\n",
      "Welcome2\n",
      "Welcome3\n"
     ]
    }
   ],
   "source": [
    "if 10>5:\n",
    "    print(\"Welcome1\")\n",
    "    print(\"Welcome2\")\n",
    "    print(\"Welcome3\")"
   ]
  },
  {
   "cell_type": "code",
   "execution_count": null,
   "id": "48aa53bf",
   "metadata": {},
   "outputs": [],
   "source": []
  },
  {
   "cell_type": "code",
   "execution_count": 12,
   "id": "eadbf7a4",
   "metadata": {},
   "outputs": [
    {
     "ename": "IndentationError",
     "evalue": "unexpected indent (860665377.py, line 3)",
     "output_type": "error",
     "traceback": [
      "\u001b[1;36m  File \u001b[1;32m\"C:\\Users\\Admin\\AppData\\Local\\Temp\\ipykernel_6036\\860665377.py\"\u001b[1;36m, line \u001b[1;32m3\u001b[0m\n\u001b[1;33m    print(\"Welcome2\")\u001b[0m\n\u001b[1;37m    ^\u001b[0m\n\u001b[1;31mIndentationError\u001b[0m\u001b[1;31m:\u001b[0m unexpected indent\n"
     ]
    }
   ],
   "source": [
    "if 10>5:\n",
    "    print(\"Welcome1\")\n",
    "        print(\"Welcome2\")\n",
    "            print(\"Welcome3\")"
   ]
  },
  {
   "cell_type": "code",
   "execution_count": null,
   "id": "9ac4cb6c",
   "metadata": {},
   "outputs": [],
   "source": []
  },
  {
   "cell_type": "markdown",
   "id": "2c1e656a",
   "metadata": {},
   "source": [
    "## <center> Python Language Fundamentals with Different Examples </center>"
   ]
  },
  {
   "cell_type": "markdown",
   "id": "e608c12f",
   "metadata": {},
   "source": [
    "### Single Line Comment"
   ]
  },
  {
   "cell_type": "code",
   "execution_count": 1,
   "id": "e38b11f1",
   "metadata": {},
   "outputs": [
    {
     "name": "stdout",
     "output_type": "stream",
     "text": [
      "A is: 10\n",
      "B is: 20\n",
      "Sum of A,B is: 30\n"
     ]
    }
   ],
   "source": [
    "#without comment\n",
    "a = 10\n",
    "b = 20\n",
    "res = a + b\n",
    "print(\"A is:\",a)\n",
    "print(\"B is:\",b)\n",
    "print(\"Sum of A,B is:\",res)"
   ]
  },
  {
   "cell_type": "code",
   "execution_count": null,
   "id": "ecfaf9a7",
   "metadata": {},
   "outputs": [],
   "source": []
  },
  {
   "cell_type": "code",
   "execution_count": 2,
   "id": "ef5c0a05",
   "metadata": {},
   "outputs": [
    {
     "name": "stdout",
     "output_type": "stream",
     "text": [
      "A is: 10\n",
      "B is: 20\n",
      "Sum of A,B is: 30\n"
     ]
    }
   ],
   "source": [
    "#with comments\n",
    "a = 10 # First Variable\n",
    "b = 20 # Second Variable\n",
    "\n",
    "res = a + b # sum of two variables\n",
    "\n",
    "#dispalying two variables and sum of two variables\n",
    "print(\"A is:\",a)\n",
    "print(\"B is:\",b)\n",
    "print(\"Sum of A,B is:\",res)"
   ]
  },
  {
   "cell_type": "code",
   "execution_count": null,
   "id": "f5048339",
   "metadata": {},
   "outputs": [],
   "source": []
  },
  {
   "cell_type": "markdown",
   "id": "093ccd2b",
   "metadata": {},
   "source": [
    "### Document Comments"
   ]
  },
  {
   "cell_type": "code",
   "execution_count": 3,
   "id": "1f2360f7",
   "metadata": {},
   "outputs": [
    {
     "name": "stdout",
     "output_type": "stream",
     "text": [
      "Help on class str in module builtins:\n",
      "\n",
      "class str(object)\n",
      " |  str(object='') -> str\n",
      " |  str(bytes_or_buffer[, encoding[, errors]]) -> str\n",
      " |  \n",
      " |  Create a new string object from the given object. If encoding or\n",
      " |  errors is specified, then the object must expose a data buffer\n",
      " |  that will be decoded using the given encoding and error handler.\n",
      " |  Otherwise, returns the result of object.__str__() (if defined)\n",
      " |  or repr(object).\n",
      " |  encoding defaults to sys.getdefaultencoding().\n",
      " |  errors defaults to 'strict'.\n",
      " |  \n",
      " |  Methods defined here:\n",
      " |  \n",
      " |  __add__(self, value, /)\n",
      " |      Return self+value.\n",
      " |  \n",
      " |  __contains__(self, key, /)\n",
      " |      Return key in self.\n",
      " |  \n",
      " |  __eq__(self, value, /)\n",
      " |      Return self==value.\n",
      " |  \n",
      " |  __format__(self, format_spec, /)\n",
      " |      Return a formatted version of the string as described by format_spec.\n",
      " |  \n",
      " |  __ge__(self, value, /)\n",
      " |      Return self>=value.\n",
      " |  \n",
      " |  __getattribute__(self, name, /)\n",
      " |      Return getattr(self, name).\n",
      " |  \n",
      " |  __getitem__(self, key, /)\n",
      " |      Return self[key].\n",
      " |  \n",
      " |  __getnewargs__(...)\n",
      " |  \n",
      " |  __gt__(self, value, /)\n",
      " |      Return self>value.\n",
      " |  \n",
      " |  __hash__(self, /)\n",
      " |      Return hash(self).\n",
      " |  \n",
      " |  __iter__(self, /)\n",
      " |      Implement iter(self).\n",
      " |  \n",
      " |  __le__(self, value, /)\n",
      " |      Return self<=value.\n",
      " |  \n",
      " |  __len__(self, /)\n",
      " |      Return len(self).\n",
      " |  \n",
      " |  __lt__(self, value, /)\n",
      " |      Return self<value.\n",
      " |  \n",
      " |  __mod__(self, value, /)\n",
      " |      Return self%value.\n",
      " |  \n",
      " |  __mul__(self, value, /)\n",
      " |      Return self*value.\n",
      " |  \n",
      " |  __ne__(self, value, /)\n",
      " |      Return self!=value.\n",
      " |  \n",
      " |  __repr__(self, /)\n",
      " |      Return repr(self).\n",
      " |  \n",
      " |  __rmod__(self, value, /)\n",
      " |      Return value%self.\n",
      " |  \n",
      " |  __rmul__(self, value, /)\n",
      " |      Return value*self.\n",
      " |  \n",
      " |  __sizeof__(self, /)\n",
      " |      Return the size of the string in memory, in bytes.\n",
      " |  \n",
      " |  __str__(self, /)\n",
      " |      Return str(self).\n",
      " |  \n",
      " |  capitalize(self, /)\n",
      " |      Return a capitalized version of the string.\n",
      " |      \n",
      " |      More specifically, make the first character have upper case and the rest lower\n",
      " |      case.\n",
      " |  \n",
      " |  casefold(self, /)\n",
      " |      Return a version of the string suitable for caseless comparisons.\n",
      " |  \n",
      " |  center(self, width, fillchar=' ', /)\n",
      " |      Return a centered string of length width.\n",
      " |      \n",
      " |      Padding is done using the specified fill character (default is a space).\n",
      " |  \n",
      " |  count(...)\n",
      " |      S.count(sub[, start[, end]]) -> int\n",
      " |      \n",
      " |      Return the number of non-overlapping occurrences of substring sub in\n",
      " |      string S[start:end].  Optional arguments start and end are\n",
      " |      interpreted as in slice notation.\n",
      " |  \n",
      " |  encode(self, /, encoding='utf-8', errors='strict')\n",
      " |      Encode the string using the codec registered for encoding.\n",
      " |      \n",
      " |      encoding\n",
      " |        The encoding in which to encode the string.\n",
      " |      errors\n",
      " |        The error handling scheme to use for encoding errors.\n",
      " |        The default is 'strict' meaning that encoding errors raise a\n",
      " |        UnicodeEncodeError.  Other possible values are 'ignore', 'replace' and\n",
      " |        'xmlcharrefreplace' as well as any other name registered with\n",
      " |        codecs.register_error that can handle UnicodeEncodeErrors.\n",
      " |  \n",
      " |  endswith(...)\n",
      " |      S.endswith(suffix[, start[, end]]) -> bool\n",
      " |      \n",
      " |      Return True if S ends with the specified suffix, False otherwise.\n",
      " |      With optional start, test S beginning at that position.\n",
      " |      With optional end, stop comparing S at that position.\n",
      " |      suffix can also be a tuple of strings to try.\n",
      " |  \n",
      " |  expandtabs(self, /, tabsize=8)\n",
      " |      Return a copy where all tab characters are expanded using spaces.\n",
      " |      \n",
      " |      If tabsize is not given, a tab size of 8 characters is assumed.\n",
      " |  \n",
      " |  find(...)\n",
      " |      S.find(sub[, start[, end]]) -> int\n",
      " |      \n",
      " |      Return the lowest index in S where substring sub is found,\n",
      " |      such that sub is contained within S[start:end].  Optional\n",
      " |      arguments start and end are interpreted as in slice notation.\n",
      " |      \n",
      " |      Return -1 on failure.\n",
      " |  \n",
      " |  format(...)\n",
      " |      S.format(*args, **kwargs) -> str\n",
      " |      \n",
      " |      Return a formatted version of S, using substitutions from args and kwargs.\n",
      " |      The substitutions are identified by braces ('{' and '}').\n",
      " |  \n",
      " |  format_map(...)\n",
      " |      S.format_map(mapping) -> str\n",
      " |      \n",
      " |      Return a formatted version of S, using substitutions from mapping.\n",
      " |      The substitutions are identified by braces ('{' and '}').\n",
      " |  \n",
      " |  index(...)\n",
      " |      S.index(sub[, start[, end]]) -> int\n",
      " |      \n",
      " |      Return the lowest index in S where substring sub is found,\n",
      " |      such that sub is contained within S[start:end].  Optional\n",
      " |      arguments start and end are interpreted as in slice notation.\n",
      " |      \n",
      " |      Raises ValueError when the substring is not found.\n",
      " |  \n",
      " |  isalnum(self, /)\n",
      " |      Return True if the string is an alpha-numeric string, False otherwise.\n",
      " |      \n",
      " |      A string is alpha-numeric if all characters in the string are alpha-numeric and\n",
      " |      there is at least one character in the string.\n",
      " |  \n",
      " |  isalpha(self, /)\n",
      " |      Return True if the string is an alphabetic string, False otherwise.\n",
      " |      \n",
      " |      A string is alphabetic if all characters in the string are alphabetic and there\n",
      " |      is at least one character in the string.\n",
      " |  \n",
      " |  isascii(self, /)\n",
      " |      Return True if all characters in the string are ASCII, False otherwise.\n",
      " |      \n",
      " |      ASCII characters have code points in the range U+0000-U+007F.\n",
      " |      Empty string is ASCII too.\n",
      " |  \n",
      " |  isdecimal(self, /)\n",
      " |      Return True if the string is a decimal string, False otherwise.\n",
      " |      \n",
      " |      A string is a decimal string if all characters in the string are decimal and\n",
      " |      there is at least one character in the string.\n",
      " |  \n",
      " |  isdigit(self, /)\n",
      " |      Return True if the string is a digit string, False otherwise.\n",
      " |      \n",
      " |      A string is a digit string if all characters in the string are digits and there\n",
      " |      is at least one character in the string.\n",
      " |  \n",
      " |  isidentifier(self, /)\n",
      " |      Return True if the string is a valid Python identifier, False otherwise.\n",
      " |      \n",
      " |      Call keyword.iskeyword(s) to test whether string s is a reserved identifier,\n",
      " |      such as \"def\" or \"class\".\n",
      " |  \n",
      " |  islower(self, /)\n",
      " |      Return True if the string is a lowercase string, False otherwise.\n",
      " |      \n",
      " |      A string is lowercase if all cased characters in the string are lowercase and\n",
      " |      there is at least one cased character in the string.\n",
      " |  \n",
      " |  isnumeric(self, /)\n",
      " |      Return True if the string is a numeric string, False otherwise.\n",
      " |      \n",
      " |      A string is numeric if all characters in the string are numeric and there is at\n",
      " |      least one character in the string.\n",
      " |  \n",
      " |  isprintable(self, /)\n",
      " |      Return True if the string is printable, False otherwise.\n",
      " |      \n",
      " |      A string is printable if all of its characters are considered printable in\n",
      " |      repr() or if it is empty.\n",
      " |  \n",
      " |  isspace(self, /)\n",
      " |      Return True if the string is a whitespace string, False otherwise.\n",
      " |      \n",
      " |      A string is whitespace if all characters in the string are whitespace and there\n",
      " |      is at least one character in the string.\n",
      " |  \n",
      " |  istitle(self, /)\n",
      " |      Return True if the string is a title-cased string, False otherwise.\n",
      " |      \n",
      " |      In a title-cased string, upper- and title-case characters may only\n",
      " |      follow uncased characters and lowercase characters only cased ones.\n",
      " |  \n",
      " |  isupper(self, /)\n",
      " |      Return True if the string is an uppercase string, False otherwise.\n",
      " |      \n",
      " |      A string is uppercase if all cased characters in the string are uppercase and\n",
      " |      there is at least one cased character in the string.\n",
      " |  \n",
      " |  join(self, iterable, /)\n",
      " |      Concatenate any number of strings.\n",
      " |      \n",
      " |      The string whose method is called is inserted in between each given string.\n",
      " |      The result is returned as a new string.\n",
      " |      \n",
      " |      Example: '.'.join(['ab', 'pq', 'rs']) -> 'ab.pq.rs'\n",
      " |  \n",
      " |  ljust(self, width, fillchar=' ', /)\n",
      " |      Return a left-justified string of length width.\n",
      " |      \n",
      " |      Padding is done using the specified fill character (default is a space).\n",
      " |  \n",
      " |  lower(self, /)\n",
      " |      Return a copy of the string converted to lowercase.\n",
      " |  \n",
      " |  lstrip(self, chars=None, /)\n",
      " |      Return a copy of the string with leading whitespace removed.\n",
      " |      \n",
      " |      If chars is given and not None, remove characters in chars instead.\n",
      " |  \n",
      " |  partition(self, sep, /)\n",
      " |      Partition the string into three parts using the given separator.\n",
      " |      \n",
      " |      This will search for the separator in the string.  If the separator is found,\n",
      " |      returns a 3-tuple containing the part before the separator, the separator\n",
      " |      itself, and the part after it.\n",
      " |      \n",
      " |      If the separator is not found, returns a 3-tuple containing the original string\n",
      " |      and two empty strings.\n",
      " |  \n",
      " |  removeprefix(self, prefix, /)\n",
      " |      Return a str with the given prefix string removed if present.\n",
      " |      \n",
      " |      If the string starts with the prefix string, return string[len(prefix):].\n",
      " |      Otherwise, return a copy of the original string.\n",
      " |  \n",
      " |  removesuffix(self, suffix, /)\n",
      " |      Return a str with the given suffix string removed if present.\n",
      " |      \n",
      " |      If the string ends with the suffix string and that suffix is not empty,\n",
      " |      return string[:-len(suffix)]. Otherwise, return a copy of the original\n",
      " |      string.\n",
      " |  \n",
      " |  replace(self, old, new, count=-1, /)\n",
      " |      Return a copy with all occurrences of substring old replaced by new.\n",
      " |      \n",
      " |        count\n",
      " |          Maximum number of occurrences to replace.\n",
      " |          -1 (the default value) means replace all occurrences.\n",
      " |      \n",
      " |      If the optional argument count is given, only the first count occurrences are\n",
      " |      replaced.\n",
      " |  \n",
      " |  rfind(...)\n",
      " |      S.rfind(sub[, start[, end]]) -> int\n",
      " |      \n",
      " |      Return the highest index in S where substring sub is found,\n",
      " |      such that sub is contained within S[start:end].  Optional\n",
      " |      arguments start and end are interpreted as in slice notation.\n",
      " |      \n",
      " |      Return -1 on failure.\n",
      " |  \n",
      " |  rindex(...)\n",
      " |      S.rindex(sub[, start[, end]]) -> int\n",
      " |      \n",
      " |      Return the highest index in S where substring sub is found,\n",
      " |      such that sub is contained within S[start:end].  Optional\n",
      " |      arguments start and end are interpreted as in slice notation.\n",
      " |      \n",
      " |      Raises ValueError when the substring is not found.\n",
      " |  \n",
      " |  rjust(self, width, fillchar=' ', /)\n",
      " |      Return a right-justified string of length width.\n",
      " |      \n",
      " |      Padding is done using the specified fill character (default is a space).\n",
      " |  \n",
      " |  rpartition(self, sep, /)\n",
      " |      Partition the string into three parts using the given separator.\n",
      " |      \n",
      " |      This will search for the separator in the string, starting at the end. If\n",
      " |      the separator is found, returns a 3-tuple containing the part before the\n",
      " |      separator, the separator itself, and the part after it.\n",
      " |      \n",
      " |      If the separator is not found, returns a 3-tuple containing two empty strings\n",
      " |      and the original string.\n",
      " |  \n",
      " |  rsplit(self, /, sep=None, maxsplit=-1)\n",
      " |      Return a list of the words in the string, using sep as the delimiter string.\n",
      " |      \n",
      " |        sep\n",
      " |          The delimiter according which to split the string.\n",
      " |          None (the default value) means split according to any whitespace,\n",
      " |          and discard empty strings from the result.\n",
      " |        maxsplit\n",
      " |          Maximum number of splits to do.\n",
      " |          -1 (the default value) means no limit.\n",
      " |      \n",
      " |      Splits are done starting at the end of the string and working to the front.\n",
      " |  \n",
      " |  rstrip(self, chars=None, /)\n",
      " |      Return a copy of the string with trailing whitespace removed.\n",
      " |      \n",
      " |      If chars is given and not None, remove characters in chars instead.\n",
      " |  \n",
      " |  split(self, /, sep=None, maxsplit=-1)\n",
      " |      Return a list of the words in the string, using sep as the delimiter string.\n",
      " |      \n",
      " |      sep\n",
      " |        The delimiter according which to split the string.\n",
      " |        None (the default value) means split according to any whitespace,\n",
      " |        and discard empty strings from the result.\n",
      " |      maxsplit\n",
      " |        Maximum number of splits to do.\n",
      " |        -1 (the default value) means no limit.\n",
      " |  \n",
      " |  splitlines(self, /, keepends=False)\n",
      " |      Return a list of the lines in the string, breaking at line boundaries.\n",
      " |      \n",
      " |      Line breaks are not included in the resulting list unless keepends is given and\n",
      " |      true.\n",
      " |  \n",
      " |  startswith(...)\n",
      " |      S.startswith(prefix[, start[, end]]) -> bool\n",
      " |      \n",
      " |      Return True if S starts with the specified prefix, False otherwise.\n",
      " |      With optional start, test S beginning at that position.\n",
      " |      With optional end, stop comparing S at that position.\n",
      " |      prefix can also be a tuple of strings to try.\n",
      " |  \n",
      " |  strip(self, chars=None, /)\n",
      " |      Return a copy of the string with leading and trailing whitespace removed.\n",
      " |      \n",
      " |      If chars is given and not None, remove characters in chars instead.\n",
      " |  \n",
      " |  swapcase(self, /)\n",
      " |      Convert uppercase characters to lowercase and lowercase characters to uppercase.\n",
      " |  \n",
      " |  title(self, /)\n",
      " |      Return a version of the string where each word is titlecased.\n",
      " |      \n",
      " |      More specifically, words start with uppercased characters and all remaining\n",
      " |      cased characters have lower case.\n",
      " |  \n",
      " |  translate(self, table, /)\n",
      " |      Replace each character in the string using the given translation table.\n",
      " |      \n",
      " |        table\n",
      " |          Translation table, which must be a mapping of Unicode ordinals to\n",
      " |          Unicode ordinals, strings, or None.\n",
      " |      \n",
      " |      The table must implement lookup/indexing via __getitem__, for instance a\n",
      " |      dictionary or list.  If this operation raises LookupError, the character is\n",
      " |      left untouched.  Characters mapped to None are deleted.\n",
      " |  \n",
      " |  upper(self, /)\n",
      " |      Return a copy of the string converted to uppercase.\n",
      " |  \n",
      " |  zfill(self, width, /)\n",
      " |      Pad a numeric string with zeros on the left, to fill a field of the given width.\n",
      " |      \n",
      " |      The string is never truncated.\n",
      " |  \n",
      " |  ----------------------------------------------------------------------\n",
      " |  Static methods defined here:\n",
      " |  \n",
      " |  __new__(*args, **kwargs) from builtins.type\n",
      " |      Create and return a new object.  See help(type) for accurate signature.\n",
      " |  \n",
      " |  maketrans(...)\n",
      " |      Return a translation table usable for str.translate().\n",
      " |      \n",
      " |      If there is only one argument, it must be a dictionary mapping Unicode\n",
      " |      ordinals (integers) or characters to Unicode ordinals, strings or None.\n",
      " |      Character keys will be then converted to ordinals.\n",
      " |      If there are two arguments, they must be strings of equal length, and\n",
      " |      in the resulting dictionary, each character in x will be mapped to the\n",
      " |      character at the same position in y. If there is a third argument, it\n",
      " |      must be a string, whose characters will be mapped to None in the result.\n",
      "\n"
     ]
    }
   ],
   "source": [
    "help(str)"
   ]
  },
  {
   "cell_type": "code",
   "execution_count": 4,
   "id": "ad4861c1",
   "metadata": {},
   "outputs": [
    {
     "name": "stdout",
     "output_type": "stream",
     "text": [
      "Help on class int in module builtins:\n",
      "\n",
      "class int(object)\n",
      " |  int([x]) -> integer\n",
      " |  int(x, base=10) -> integer\n",
      " |  \n",
      " |  Convert a number or string to an integer, or return 0 if no arguments\n",
      " |  are given.  If x is a number, return x.__int__().  For floating point\n",
      " |  numbers, this truncates towards zero.\n",
      " |  \n",
      " |  If x is not a number or if base is given, then x must be a string,\n",
      " |  bytes, or bytearray instance representing an integer literal in the\n",
      " |  given base.  The literal can be preceded by '+' or '-' and be surrounded\n",
      " |  by whitespace.  The base defaults to 10.  Valid bases are 0 and 2-36.\n",
      " |  Base 0 means to interpret the base from the string as an integer literal.\n",
      " |  >>> int('0b100', base=0)\n",
      " |  4\n",
      " |  \n",
      " |  Built-in subclasses:\n",
      " |      bool\n",
      " |  \n",
      " |  Methods defined here:\n",
      " |  \n",
      " |  __abs__(self, /)\n",
      " |      abs(self)\n",
      " |  \n",
      " |  __add__(self, value, /)\n",
      " |      Return self+value.\n",
      " |  \n",
      " |  __and__(self, value, /)\n",
      " |      Return self&value.\n",
      " |  \n",
      " |  __bool__(self, /)\n",
      " |      True if self else False\n",
      " |  \n",
      " |  __ceil__(...)\n",
      " |      Ceiling of an Integral returns itself.\n",
      " |  \n",
      " |  __divmod__(self, value, /)\n",
      " |      Return divmod(self, value).\n",
      " |  \n",
      " |  __eq__(self, value, /)\n",
      " |      Return self==value.\n",
      " |  \n",
      " |  __float__(self, /)\n",
      " |      float(self)\n",
      " |  \n",
      " |  __floor__(...)\n",
      " |      Flooring an Integral returns itself.\n",
      " |  \n",
      " |  __floordiv__(self, value, /)\n",
      " |      Return self//value.\n",
      " |  \n",
      " |  __format__(self, format_spec, /)\n",
      " |      Default object formatter.\n",
      " |  \n",
      " |  __ge__(self, value, /)\n",
      " |      Return self>=value.\n",
      " |  \n",
      " |  __getattribute__(self, name, /)\n",
      " |      Return getattr(self, name).\n",
      " |  \n",
      " |  __getnewargs__(self, /)\n",
      " |  \n",
      " |  __gt__(self, value, /)\n",
      " |      Return self>value.\n",
      " |  \n",
      " |  __hash__(self, /)\n",
      " |      Return hash(self).\n",
      " |  \n",
      " |  __index__(self, /)\n",
      " |      Return self converted to an integer, if self is suitable for use as an index into a list.\n",
      " |  \n",
      " |  __int__(self, /)\n",
      " |      int(self)\n",
      " |  \n",
      " |  __invert__(self, /)\n",
      " |      ~self\n",
      " |  \n",
      " |  __le__(self, value, /)\n",
      " |      Return self<=value.\n",
      " |  \n",
      " |  __lshift__(self, value, /)\n",
      " |      Return self<<value.\n",
      " |  \n",
      " |  __lt__(self, value, /)\n",
      " |      Return self<value.\n",
      " |  \n",
      " |  __mod__(self, value, /)\n",
      " |      Return self%value.\n",
      " |  \n",
      " |  __mul__(self, value, /)\n",
      " |      Return self*value.\n",
      " |  \n",
      " |  __ne__(self, value, /)\n",
      " |      Return self!=value.\n",
      " |  \n",
      " |  __neg__(self, /)\n",
      " |      -self\n",
      " |  \n",
      " |  __or__(self, value, /)\n",
      " |      Return self|value.\n",
      " |  \n",
      " |  __pos__(self, /)\n",
      " |      +self\n",
      " |  \n",
      " |  __pow__(self, value, mod=None, /)\n",
      " |      Return pow(self, value, mod).\n",
      " |  \n",
      " |  __radd__(self, value, /)\n",
      " |      Return value+self.\n",
      " |  \n",
      " |  __rand__(self, value, /)\n",
      " |      Return value&self.\n",
      " |  \n",
      " |  __rdivmod__(self, value, /)\n",
      " |      Return divmod(value, self).\n",
      " |  \n",
      " |  __repr__(self, /)\n",
      " |      Return repr(self).\n",
      " |  \n",
      " |  __rfloordiv__(self, value, /)\n",
      " |      Return value//self.\n",
      " |  \n",
      " |  __rlshift__(self, value, /)\n",
      " |      Return value<<self.\n",
      " |  \n",
      " |  __rmod__(self, value, /)\n",
      " |      Return value%self.\n",
      " |  \n",
      " |  __rmul__(self, value, /)\n",
      " |      Return value*self.\n",
      " |  \n",
      " |  __ror__(self, value, /)\n",
      " |      Return value|self.\n",
      " |  \n",
      " |  __round__(...)\n",
      " |      Rounding an Integral returns itself.\n",
      " |      Rounding with an ndigits argument also returns an integer.\n",
      " |  \n",
      " |  __rpow__(self, value, mod=None, /)\n",
      " |      Return pow(value, self, mod).\n",
      " |  \n",
      " |  __rrshift__(self, value, /)\n",
      " |      Return value>>self.\n",
      " |  \n",
      " |  __rshift__(self, value, /)\n",
      " |      Return self>>value.\n",
      " |  \n",
      " |  __rsub__(self, value, /)\n",
      " |      Return value-self.\n",
      " |  \n",
      " |  __rtruediv__(self, value, /)\n",
      " |      Return value/self.\n",
      " |  \n",
      " |  __rxor__(self, value, /)\n",
      " |      Return value^self.\n",
      " |  \n",
      " |  __sizeof__(self, /)\n",
      " |      Returns size in memory, in bytes.\n",
      " |  \n",
      " |  __sub__(self, value, /)\n",
      " |      Return self-value.\n",
      " |  \n",
      " |  __truediv__(self, value, /)\n",
      " |      Return self/value.\n",
      " |  \n",
      " |  __trunc__(...)\n",
      " |      Truncating an Integral returns itself.\n",
      " |  \n",
      " |  __xor__(self, value, /)\n",
      " |      Return self^value.\n",
      " |  \n",
      " |  as_integer_ratio(self, /)\n",
      " |      Return integer ratio.\n",
      " |      \n",
      " |      Return a pair of integers, whose ratio is exactly equal to the original int\n",
      " |      and with a positive denominator.\n",
      " |      \n",
      " |      >>> (10).as_integer_ratio()\n",
      " |      (10, 1)\n",
      " |      >>> (-10).as_integer_ratio()\n",
      " |      (-10, 1)\n",
      " |      >>> (0).as_integer_ratio()\n",
      " |      (0, 1)\n",
      " |  \n",
      " |  bit_length(self, /)\n",
      " |      Number of bits necessary to represent self in binary.\n",
      " |      \n",
      " |      >>> bin(37)\n",
      " |      '0b100101'\n",
      " |      >>> (37).bit_length()\n",
      " |      6\n",
      " |  \n",
      " |  conjugate(...)\n",
      " |      Returns self, the complex conjugate of any int.\n",
      " |  \n",
      " |  to_bytes(self, /, length, byteorder, *, signed=False)\n",
      " |      Return an array of bytes representing an integer.\n",
      " |      \n",
      " |      length\n",
      " |        Length of bytes object to use.  An OverflowError is raised if the\n",
      " |        integer is not representable with the given number of bytes.\n",
      " |      byteorder\n",
      " |        The byte order used to represent the integer.  If byteorder is 'big',\n",
      " |        the most significant byte is at the beginning of the byte array.  If\n",
      " |        byteorder is 'little', the most significant byte is at the end of the\n",
      " |        byte array.  To request the native byte order of the host system, use\n",
      " |        `sys.byteorder' as the byte order value.\n",
      " |      signed\n",
      " |        Determines whether two's complement is used to represent the integer.\n",
      " |        If signed is False and a negative integer is given, an OverflowError\n",
      " |        is raised.\n",
      " |  \n",
      " |  ----------------------------------------------------------------------\n",
      " |  Class methods defined here:\n",
      " |  \n",
      " |  from_bytes(bytes, byteorder, *, signed=False) from builtins.type\n",
      " |      Return the integer represented by the given array of bytes.\n",
      " |      \n",
      " |      bytes\n",
      " |        Holds the array of bytes to convert.  The argument must either\n",
      " |        support the buffer protocol or be an iterable object producing bytes.\n",
      " |        Bytes and bytearray are examples of built-in objects that support the\n",
      " |        buffer protocol.\n",
      " |      byteorder\n",
      " |        The byte order used to represent the integer.  If byteorder is 'big',\n",
      " |        the most significant byte is at the beginning of the byte array.  If\n",
      " |        byteorder is 'little', the most significant byte is at the end of the\n",
      " |        byte array.  To request the native byte order of the host system, use\n",
      " |        `sys.byteorder' as the byte order value.\n",
      " |      signed\n",
      " |        Indicates whether two's complement is used to represent the integer.\n",
      " |  \n",
      " |  ----------------------------------------------------------------------\n",
      " |  Static methods defined here:\n",
      " |  \n",
      " |  __new__(*args, **kwargs) from builtins.type\n",
      " |      Create and return a new object.  See help(type) for accurate signature.\n",
      " |  \n",
      " |  ----------------------------------------------------------------------\n",
      " |  Data descriptors defined here:\n",
      " |  \n",
      " |  denominator\n",
      " |      the denominator of a rational number in lowest terms\n",
      " |  \n",
      " |  imag\n",
      " |      the imaginary part of a complex number\n",
      " |  \n",
      " |  numerator\n",
      " |      the numerator of a rational number in lowest terms\n",
      " |  \n",
      " |  real\n",
      " |      the real part of a complex number\n",
      "\n"
     ]
    }
   ],
   "source": [
    "help(int)"
   ]
  },
  {
   "cell_type": "code",
   "execution_count": null,
   "id": "ca7b2d13",
   "metadata": {},
   "outputs": [],
   "source": []
  },
  {
   "cell_type": "markdown",
   "id": "38a55af1",
   "metadata": {},
   "source": [
    "### Python Identifiers"
   ]
  },
  {
   "cell_type": "code",
   "execution_count": 5,
   "id": "9fb9fd57",
   "metadata": {},
   "outputs": [],
   "source": [
    "a = 10 # a is a variable\n",
    "\n",
    "def dispaly(): # display is a function\n",
    "    print(\"A is:\",a)\n",
    "    \n",
    "class Test: #Test is a class name\n",
    "    pass"
   ]
  },
  {
   "cell_type": "code",
   "execution_count": null,
   "id": "2dee0d82",
   "metadata": {},
   "outputs": [],
   "source": []
  },
  {
   "cell_type": "code",
   "execution_count": 6,
   "id": "b0ad0ee4",
   "metadata": {},
   "outputs": [
    {
     "name": "stdout",
     "output_type": "stream",
     "text": [
      "10\n",
      "20\n",
      "30\n"
     ]
    }
   ],
   "source": [
    "# Identifier may formed with (a-z, A-Z,0-9, _)\n",
    "a = 10\n",
    "abc9 = 20\n",
    "_ab = 30\n",
    "print(a)\n",
    "print(abc9)\n",
    "print(_ab)"
   ]
  },
  {
   "cell_type": "code",
   "execution_count": 7,
   "id": "c37ca9e0",
   "metadata": {},
   "outputs": [
    {
     "ename": "SyntaxError",
     "evalue": "invalid syntax (2435423843.py, line 5)",
     "output_type": "error",
     "traceback": [
      "\u001b[1;36m  File \u001b[1;32m\"C:\\Users\\Admin\\AppData\\Local\\Temp\\ipykernel_13912\\2435423843.py\"\u001b[1;36m, line \u001b[1;32m5\u001b[0m\n\u001b[1;33m    123a = 100\u001b[0m\n\u001b[1;37m       ^\u001b[0m\n\u001b[1;31mSyntaxError\u001b[0m\u001b[1;31m:\u001b[0m invalid syntax\n"
     ]
    }
   ],
   "source": [
    "a=10\n",
    "a123=20\n",
    "print(a)\n",
    "print(a123)\n",
    "123a = 100\n",
    "print(123a)"
   ]
  },
  {
   "cell_type": "code",
   "execution_count": 8,
   "id": "2e0687ca",
   "metadata": {},
   "outputs": [
    {
     "name": "stdout",
     "output_type": "stream",
     "text": [
      "100\n",
      "200\n"
     ]
    }
   ],
   "source": [
    "_a = 100\n",
    "__b = 200\n",
    "print(_a)\n",
    "print(__b)"
   ]
  },
  {
   "cell_type": "code",
   "execution_count": null,
   "id": "da278d28",
   "metadata": {},
   "outputs": [],
   "source": []
  },
  {
   "cell_type": "code",
   "execution_count": 9,
   "id": "42d89d5b",
   "metadata": {},
   "outputs": [
    {
     "name": "stdout",
     "output_type": "stream",
     "text": [
      "300\n",
      "200\n"
     ]
    }
   ],
   "source": [
    "a = 200\n",
    "A = 300\n",
    "print(A)\n",
    "print(a)"
   ]
  },
  {
   "cell_type": "code",
   "execution_count": null,
   "id": "3c764e20",
   "metadata": {},
   "outputs": [],
   "source": []
  },
  {
   "cell_type": "code",
   "execution_count": 10,
   "id": "041a530b",
   "metadata": {},
   "outputs": [
    {
     "name": "stdout",
     "output_type": "stream",
     "text": [
      "100\n"
     ]
    }
   ],
   "source": [
    "aaaaaaaaaaaaaaaaaaaaaaaaaaaaaaaaaaabbbbbbbbbbbbbbbbbbbccccccccccccccdddddddddddd = 100\n",
    "print(aaaaaaaaaaaaaaaaaaaaaaaaaaaaaaaaaaabbbbbbbbbbbbbbbbbbbccccccccccccccdddddddddddd)"
   ]
  },
  {
   "cell_type": "code",
   "execution_count": null,
   "id": "fdf24cc7",
   "metadata": {},
   "outputs": [],
   "source": []
  },
  {
   "cell_type": "markdown",
   "id": "687fe4ad",
   "metadata": {},
   "source": [
    "### Python Keywords"
   ]
  },
  {
   "cell_type": "code",
   "execution_count": 11,
   "id": "9f63ab96",
   "metadata": {},
   "outputs": [
    {
     "name": "stdout",
     "output_type": "stream",
     "text": [
      "['False', 'None', 'True', '__peg_parser__', 'and', 'as', 'assert', 'async', 'await', 'break', 'class', 'continue', 'def', 'del', 'elif', 'else', 'except', 'finally', 'for', 'from', 'global', 'if', 'import', 'in', 'is', 'lambda', 'nonlocal', 'not', 'or', 'pass', 'raise', 'return', 'try', 'while', 'with', 'yield']\n"
     ]
    }
   ],
   "source": [
    "import keyword\n",
    "print(keyword.kwlist)"
   ]
  },
  {
   "cell_type": "code",
   "execution_count": null,
   "id": "141912bc",
   "metadata": {},
   "outputs": [],
   "source": []
  },
  {
   "cell_type": "markdown",
   "id": "0a99ecfe",
   "metadata": {},
   "source": [
    "## <center> Python Datatypes </center> \n",
    "### Python Datatypes Introduction & Types of Datatypes"
   ]
  },
  {
   "cell_type": "code",
   "execution_count": 1,
   "id": "063418b2",
   "metadata": {},
   "outputs": [],
   "source": [
    "#simple datatypes -- can hold only one value at a time\n",
    "a = 10\n",
    "\n",
    "#collection datatypes -- can hold multiple values at a time\n",
    "li = [10,20,30,40,50]"
   ]
  },
  {
   "cell_type": "code",
   "execution_count": null,
   "id": "84c39995",
   "metadata": {},
   "outputs": [],
   "source": []
  },
  {
   "cell_type": "markdown",
   "id": "e5d312c3",
   "metadata": {},
   "source": [
    "### Simple Datatypes"
   ]
  },
  {
   "cell_type": "code",
   "execution_count": 2,
   "id": "de49f2fe",
   "metadata": {},
   "outputs": [
    {
     "name": "stdout",
     "output_type": "stream",
     "text": [
      "10\n",
      "<class 'int'>\n",
      "10.5\n",
      "<class 'float'>\n",
      "sreenivasulu\n",
      "<class 'str'>\n",
      "akkem\n",
      "<class 'str'>\n",
      "True\n",
      "<class 'bool'>\n"
     ]
    }
   ],
   "source": [
    "a = 10\n",
    "b = 10.5\n",
    "c = \"sreenivasulu\"\n",
    "d = 'akkem'\n",
    "e = True\n",
    "print(a)\n",
    "print(type(a))\n",
    "print(b)\n",
    "print(type(b))\n",
    "print(c)\n",
    "print(type(c))\n",
    "print(d)\n",
    "print(type(d))\n",
    "print(e)\n",
    "print(type(e))"
   ]
  },
  {
   "cell_type": "code",
   "execution_count": null,
   "id": "d0037e1d",
   "metadata": {},
   "outputs": [],
   "source": []
  },
  {
   "cell_type": "markdown",
   "id": "ede7ea2f",
   "metadata": {},
   "source": [
    "## <center> Python Collection Datatypes <center>"
   ]
  },
  {
   "cell_type": "markdown",
   "id": "38d9ea9c",
   "metadata": {},
   "source": [
    "### tuple collection"
   ]
  },
  {
   "cell_type": "code",
   "execution_count": 1,
   "id": "50b276cd",
   "metadata": {},
   "outputs": [
    {
     "name": "stdout",
     "output_type": "stream",
     "text": [
      "(10, 20, 30, 40, 50)\n",
      "<class 'tuple'>\n"
     ]
    }
   ],
   "source": [
    "t1 = (10,20,30,40,50)\n",
    "print(t1)\n",
    "print(type(t1))"
   ]
  },
  {
   "cell_type": "code",
   "execution_count": 2,
   "id": "700b6892",
   "metadata": {},
   "outputs": [
    {
     "name": "stdout",
     "output_type": "stream",
     "text": [
      "(10, 'sreenivas', 10.5, True)\n",
      "<class 'tuple'>\n"
     ]
    }
   ],
   "source": [
    "t2 = (10,\"sreenivas\",10.5,True)\n",
    "print(t2)\n",
    "print(type(t2))"
   ]
  },
  {
   "cell_type": "code",
   "execution_count": null,
   "id": "55a2302a",
   "metadata": {},
   "outputs": [],
   "source": []
  },
  {
   "cell_type": "markdown",
   "id": "ad95785b",
   "metadata": {},
   "source": [
    "### Print tuple By using Index (Forward Direction and Backward Direction)"
   ]
  },
  {
   "cell_type": "code",
   "execution_count": 4,
   "id": "20337b3e",
   "metadata": {},
   "outputs": [
    {
     "name": "stdout",
     "output_type": "stream",
     "text": [
      "tuple in forward direction:\n",
      "10\n",
      "20\n",
      "30\n",
      "40\n",
      "50\n",
      "tuple in backward direction:\n",
      "50\n",
      "40\n",
      "30\n",
      "20\n",
      "10\n"
     ]
    }
   ],
   "source": [
    "t1 = (10,20,30,40,50)\n",
    "print(\"tuple in forward direction:\")\n",
    "print(t1[0])\n",
    "print(t1[1])\n",
    "print(t1[2])\n",
    "print(t1[3])\n",
    "print(t1[4])\n",
    "\n",
    "print(\"tuple in backward direction:\")\n",
    "print(t1[-1])\n",
    "print(t1[-2])\n",
    "print(t1[-3])\n",
    "print(t1[-4])\n",
    "print(t1[-5])"
   ]
  },
  {
   "cell_type": "code",
   "execution_count": null,
   "id": "33befbe5",
   "metadata": {},
   "outputs": [],
   "source": []
  },
  {
   "cell_type": "markdown",
   "id": "a5ac23f8",
   "metadata": {},
   "source": [
    "### b) Navigate tuple by slicing operation"
   ]
  },
  {
   "cell_type": "code",
   "execution_count": 10,
   "id": "55bad57d",
   "metadata": {},
   "outputs": [
    {
     "name": "stdout",
     "output_type": "stream",
     "text": [
      "10\n",
      "10\n",
      "50\n",
      "50\n",
      "(20, 30, 40)\n",
      "(20, 30, 40)\n",
      "(10, 20, 30, 40, 50)\n",
      "(10, 20, 30, 40, 50)\n"
     ]
    }
   ],
   "source": [
    "t1 = (10,20,30,40,50)\n",
    "print(t1[0])\n",
    "print(t1[-5])\n",
    "print(t1[4])\n",
    "print(t1[-1])\n",
    "print(t1[1:4])\n",
    "print(t1[-4:-1])\n",
    "print(t1[0:])\n",
    "print(t1[-5:])"
   ]
  },
  {
   "cell_type": "code",
   "execution_count": null,
   "id": "b827c5d0",
   "metadata": {},
   "outputs": [],
   "source": []
  },
  {
   "cell_type": "markdown",
   "id": "508a9064",
   "metadata": {},
   "source": [
    "### c) Navigate tuple by using ‘for loop’"
   ]
  },
  {
   "cell_type": "code",
   "execution_count": 11,
   "id": "8b914cc2",
   "metadata": {},
   "outputs": [
    {
     "name": "stdout",
     "output_type": "stream",
     "text": [
      "10\n",
      "20\n",
      "30\n",
      "40\n",
      "50\n"
     ]
    }
   ],
   "source": [
    "t1 = (10,20,30,40,50)\n",
    "for v in t1:\n",
    "    print(v)"
   ]
  },
  {
   "cell_type": "code",
   "execution_count": null,
   "id": "f0a1d8d3",
   "metadata": {},
   "outputs": [],
   "source": []
  },
  {
   "cell_type": "markdown",
   "id": "9012177b",
   "metadata": {},
   "source": [
    "## List Collection"
   ]
  },
  {
   "cell_type": "code",
   "execution_count": 12,
   "id": "653c43ac",
   "metadata": {},
   "outputs": [
    {
     "name": "stdout",
     "output_type": "stream",
     "text": [
      "[10, 20, 30, 40, 50]\n",
      "<class 'list'>\n"
     ]
    }
   ],
   "source": [
    "li1 = [10,20,30,40,50]\n",
    "print(li1)\n",
    "print(type(li1))"
   ]
  },
  {
   "cell_type": "code",
   "execution_count": 13,
   "id": "df67d5f5",
   "metadata": {},
   "outputs": [
    {
     "name": "stdout",
     "output_type": "stream",
     "text": [
      "[10, 'sreenivas', 10.5, True]\n",
      "<class 'list'>\n"
     ]
    }
   ],
   "source": [
    "li2 = [10,\"sreenivas\",10.5,True]\n",
    "print(li2)\n",
    "print(type(li2))"
   ]
  },
  {
   "cell_type": "code",
   "execution_count": null,
   "id": "21f3bdda",
   "metadata": {},
   "outputs": [],
   "source": []
  },
  {
   "cell_type": "markdown",
   "id": "5bbeca4c",
   "metadata": {},
   "source": [
    "### a) By using list index (forward index and backward index)"
   ]
  },
  {
   "cell_type": "code",
   "execution_count": 15,
   "id": "1088edac",
   "metadata": {},
   "outputs": [
    {
     "name": "stdout",
     "output_type": "stream",
     "text": [
      "List Navigation in Farward Direction:\n",
      "10\n",
      "20\n",
      "30\n",
      "40\n",
      "50\n",
      "List Navigation in Backward Direction:\n",
      "50\n",
      "40\n",
      "30\n",
      "20\n",
      "10\n"
     ]
    }
   ],
   "source": [
    "li = [10,20,30,40,50]\n",
    "print(\"List Navigation in Farward Direction:\")\n",
    "print(li[0])\n",
    "print(li[1])\n",
    "print(li[2])\n",
    "print(li[3])\n",
    "print(li[4])\n",
    "\n",
    "print(\"List Navigation in Backward Direction:\")\n",
    "print(li[-1])\n",
    "print(li[-2])\n",
    "print(li[-3])\n",
    "print(li[-4])\n",
    "print(li[-5])"
   ]
  },
  {
   "cell_type": "code",
   "execution_count": null,
   "id": "88dc3e09",
   "metadata": {},
   "outputs": [],
   "source": []
  },
  {
   "cell_type": "markdown",
   "id": "4e0ec68d",
   "metadata": {},
   "source": [
    "### b) Navigating list using Slicing Operation"
   ]
  },
  {
   "cell_type": "code",
   "execution_count": 16,
   "id": "0998f07f",
   "metadata": {},
   "outputs": [
    {
     "name": "stdout",
     "output_type": "stream",
     "text": [
      "10\n",
      "10\n",
      "50\n",
      "50\n",
      "[20, 30, 40]\n",
      "[20, 30, 40]\n",
      "[10, 20, 30, 40, 50]\n",
      "[10, 20, 30, 40, 50]\n"
     ]
    }
   ],
   "source": [
    "li = [10,20,30,40,50]\n",
    "print(li[0])\n",
    "print(li[-5])\n",
    "print(li[4])\n",
    "print(li[-1])\n",
    "print(li[1:4])\n",
    "print(li[-4:-1])\n",
    "print(li[0:])\n",
    "print(li[-5:])"
   ]
  },
  {
   "cell_type": "code",
   "execution_count": null,
   "id": "4592dc61",
   "metadata": {},
   "outputs": [],
   "source": []
  },
  {
   "cell_type": "markdown",
   "id": "ed9e62a8",
   "metadata": {},
   "source": [
    "### c) Navigating list using “for loop”"
   ]
  },
  {
   "cell_type": "code",
   "execution_count": 17,
   "id": "ff6c34c8",
   "metadata": {},
   "outputs": [
    {
     "name": "stdout",
     "output_type": "stream",
     "text": [
      "10\n",
      "20\n",
      "30\n",
      "40\n",
      "50\n"
     ]
    }
   ],
   "source": [
    "li = [10,20,30,40,50]\n",
    "for v in li:\n",
    "    print(v)"
   ]
  },
  {
   "cell_type": "code",
   "execution_count": null,
   "id": "a71464e1",
   "metadata": {},
   "outputs": [],
   "source": []
  },
  {
   "cell_type": "markdown",
   "id": "135b8c29",
   "metadata": {},
   "source": [
    "## Set Collection"
   ]
  },
  {
   "cell_type": "code",
   "execution_count": 1,
   "id": "368b8b54",
   "metadata": {},
   "outputs": [
    {
     "name": "stdout",
     "output_type": "stream",
     "text": [
      "{50, 20, 40, 10, 30}\n",
      "<class 'set'>\n"
     ]
    }
   ],
   "source": [
    "s1 = {10,20,30,40,50}\n",
    "print(s1)\n",
    "print(type(s1))"
   ]
  },
  {
   "cell_type": "code",
   "execution_count": null,
   "id": "134dd20f",
   "metadata": {},
   "outputs": [],
   "source": []
  },
  {
   "cell_type": "code",
   "execution_count": 2,
   "id": "9509bb15",
   "metadata": {},
   "outputs": [
    {
     "name": "stdout",
     "output_type": "stream",
     "text": [
      "[10, 20, 30, 40, 10, 20, 30, 50]\n",
      "<class 'list'>\n",
      "{50, 20, 40, 10, 30}\n",
      "<class 'set'>\n"
     ]
    }
   ],
   "source": [
    "li = [10,20,30,40,10,20,30,50]\n",
    "s1 = {10,20,30,40,10,20,30,50}\n",
    "print(li)\n",
    "print(type(li))\n",
    "print(s1)\n",
    "print(type(s1))"
   ]
  },
  {
   "cell_type": "code",
   "execution_count": null,
   "id": "1fe00eeb",
   "metadata": {},
   "outputs": [],
   "source": []
  },
  {
   "cell_type": "markdown",
   "id": "e54cfdc4",
   "metadata": {},
   "source": [
    "### Navigating Set Collection\n",
    "### a) By using Index (both Postive and Negative)"
   ]
  },
  {
   "cell_type": "code",
   "execution_count": 6,
   "id": "50a3226d",
   "metadata": {},
   "outputs": [
    {
     "ename": "TypeError",
     "evalue": "'set' object is not subscriptable",
     "output_type": "error",
     "traceback": [
      "\u001b[1;31m---------------------------------------------------------------------------\u001b[0m",
      "\u001b[1;31mTypeError\u001b[0m                                 Traceback (most recent call last)",
      "\u001b[1;32m~\\AppData\\Local\\Temp\\ipykernel_1232\\3314198384.py\u001b[0m in \u001b[0;36m<module>\u001b[1;34m\u001b[0m\n\u001b[0;32m      1\u001b[0m \u001b[0ms1\u001b[0m \u001b[1;33m=\u001b[0m \u001b[1;33m{\u001b[0m\u001b[1;36m10\u001b[0m\u001b[1;33m,\u001b[0m\u001b[1;36m20\u001b[0m\u001b[1;33m,\u001b[0m\u001b[1;36m30\u001b[0m\u001b[1;33m,\u001b[0m\u001b[1;36m40\u001b[0m\u001b[1;33m,\u001b[0m\u001b[1;36m50\u001b[0m\u001b[1;33m}\u001b[0m\u001b[1;33m\u001b[0m\u001b[1;33m\u001b[0m\u001b[0m\n\u001b[1;32m----> 2\u001b[1;33m \u001b[0mprint\u001b[0m\u001b[1;33m(\u001b[0m\u001b[0ms1\u001b[0m\u001b[1;33m[\u001b[0m\u001b[1;36m0\u001b[0m\u001b[1;33m]\u001b[0m\u001b[1;33m)\u001b[0m\u001b[1;33m\u001b[0m\u001b[1;33m\u001b[0m\u001b[0m\n\u001b[0m",
      "\u001b[1;31mTypeError\u001b[0m: 'set' object is not subscriptable"
     ]
    }
   ],
   "source": [
    "s1 = {10,20,30,40,50}\n",
    "print(s1[0])"
   ]
  },
  {
   "cell_type": "code",
   "execution_count": null,
   "id": "9970af2c",
   "metadata": {},
   "outputs": [],
   "source": []
  },
  {
   "cell_type": "markdown",
   "id": "07d80fde",
   "metadata": {},
   "source": [
    "### b) Using looping"
   ]
  },
  {
   "cell_type": "code",
   "execution_count": 7,
   "id": "511de0a8",
   "metadata": {},
   "outputs": [
    {
     "name": "stdout",
     "output_type": "stream",
     "text": [
      "50\n",
      "20\n",
      "40\n",
      "10\n",
      "30\n"
     ]
    }
   ],
   "source": [
    "s1 = {10,20,30,40,50}\n",
    "for v in s1:\n",
    "    print(v)"
   ]
  },
  {
   "cell_type": "code",
   "execution_count": null,
   "id": "67cbcde4",
   "metadata": {},
   "outputs": [],
   "source": []
  },
  {
   "cell_type": "markdown",
   "id": "c331e5b8",
   "metadata": {},
   "source": [
    "### Element Duplicates of List"
   ]
  },
  {
   "cell_type": "code",
   "execution_count": 9,
   "id": "e2bf40c4",
   "metadata": {},
   "outputs": [
    {
     "name": "stdout",
     "output_type": "stream",
     "text": [
      "[10, 20, 30, 40, 10, 20, 30, 50]\n",
      "[40, 10, 50, 20, 30]\n"
     ]
    }
   ],
   "source": [
    "li = [10,20,30,40,10,20,30,50]\n",
    "print(li)\n",
    "s1 = set(li)\n",
    "li2 = list(s1)\n",
    "print(li2)"
   ]
  },
  {
   "cell_type": "code",
   "execution_count": null,
   "id": "ee222cd1",
   "metadata": {},
   "outputs": [],
   "source": []
  },
  {
   "cell_type": "markdown",
   "id": "8fb0ad8d",
   "metadata": {},
   "source": [
    "## Frozen Set Collection"
   ]
  },
  {
   "cell_type": "code",
   "execution_count": 11,
   "id": "56779a60",
   "metadata": {},
   "outputs": [
    {
     "name": "stdout",
     "output_type": "stream",
     "text": [
      "{50, 20, 40, 10, 30}\n",
      "{50, 20, 40, 10}\n"
     ]
    }
   ],
   "source": [
    "s1 = {10,20,30,40,50}\n",
    "print(s1)\n",
    "s1.remove(30)\n",
    "print(s1)"
   ]
  },
  {
   "cell_type": "code",
   "execution_count": null,
   "id": "17db3c9f",
   "metadata": {},
   "outputs": [],
   "source": []
  },
  {
   "cell_type": "code",
   "execution_count": 14,
   "id": "1a277af4",
   "metadata": {},
   "outputs": [
    {
     "name": "stdout",
     "output_type": "stream",
     "text": [
      "{50, 20, 40, 10, 30}\n",
      "<class 'set'>\n",
      "frozenset({50, 20, 40, 10, 30})\n",
      "<class 'frozenset'>\n"
     ]
    },
    {
     "ename": "AttributeError",
     "evalue": "'frozenset' object has no attribute 'remove'",
     "output_type": "error",
     "traceback": [
      "\u001b[1;31m---------------------------------------------------------------------------\u001b[0m",
      "\u001b[1;31mAttributeError\u001b[0m                            Traceback (most recent call last)",
      "\u001b[1;32m~\\AppData\\Local\\Temp\\ipykernel_1232\\2754851056.py\u001b[0m in \u001b[0;36m<module>\u001b[1;34m\u001b[0m\n\u001b[0;32m      5\u001b[0m \u001b[0mprint\u001b[0m\u001b[1;33m(\u001b[0m\u001b[0mfs\u001b[0m\u001b[1;33m)\u001b[0m\u001b[1;33m\u001b[0m\u001b[1;33m\u001b[0m\u001b[0m\n\u001b[0;32m      6\u001b[0m \u001b[0mprint\u001b[0m\u001b[1;33m(\u001b[0m\u001b[0mtype\u001b[0m\u001b[1;33m(\u001b[0m\u001b[0mfs\u001b[0m\u001b[1;33m)\u001b[0m\u001b[1;33m)\u001b[0m\u001b[1;33m\u001b[0m\u001b[1;33m\u001b[0m\u001b[0m\n\u001b[1;32m----> 7\u001b[1;33m \u001b[0mfs\u001b[0m\u001b[1;33m.\u001b[0m\u001b[0mremove\u001b[0m\u001b[1;33m(\u001b[0m\u001b[1;36m30\u001b[0m\u001b[1;33m)\u001b[0m\u001b[1;33m\u001b[0m\u001b[1;33m\u001b[0m\u001b[0m\n\u001b[0m\u001b[0;32m      8\u001b[0m \u001b[0mprint\u001b[0m\u001b[1;33m(\u001b[0m\u001b[0mfs\u001b[0m\u001b[1;33m)\u001b[0m\u001b[1;33m\u001b[0m\u001b[1;33m\u001b[0m\u001b[0m\n",
      "\u001b[1;31mAttributeError\u001b[0m: 'frozenset' object has no attribute 'remove'"
     ]
    }
   ],
   "source": [
    "s1 = {10,20,30,40,50}\n",
    "print(s1)\n",
    "print(type(s1))\n",
    "fs = frozenset(s1)\n",
    "print(fs)\n",
    "print(type(fs))\n",
    "fs.remove(30)\n",
    "print(fs)"
   ]
  },
  {
   "cell_type": "code",
   "execution_count": null,
   "id": "a4282358",
   "metadata": {},
   "outputs": [],
   "source": []
  },
  {
   "cell_type": "markdown",
   "id": "6cbff32a",
   "metadata": {},
   "source": [
    "## Dictionary Collection (dict)"
   ]
  },
  {
   "cell_type": "code",
   "execution_count": 16,
   "id": "e70f9ee3",
   "metadata": {},
   "outputs": [
    {
     "name": "stdout",
     "output_type": "stream",
     "text": [
      "{'empno': 101, 'ename': 'Sreenivasulu Akkem', 'sal': 20000.5, 'gender': 'male', 'dno': 11}\n",
      "<class 'dict'>\n"
     ]
    }
   ],
   "source": [
    "d1 = {\n",
    "    \"empno\":101,\n",
    "    \"ename\":'Sreenivasulu Akkem',\n",
    "    \"sal\": 20000.50,\n",
    "    \"gender\":'male',\n",
    "    \"dno\":11\n",
    "}\n",
    "print(d1)\n",
    "print(type(d1))"
   ]
  },
  {
   "cell_type": "code",
   "execution_count": null,
   "id": "e88bf28a",
   "metadata": {},
   "outputs": [],
   "source": []
  },
  {
   "cell_type": "markdown",
   "id": "42baffb1",
   "metadata": {},
   "source": [
    "## Navigating/Iterating Dictionary"
   ]
  },
  {
   "cell_type": "code",
   "execution_count": 22,
   "id": "2bd395c2",
   "metadata": {},
   "outputs": [
    {
     "name": "stdout",
     "output_type": "stream",
     "text": [
      "Complete Dictionary Object is:\n",
      "{'empno': 101, 'ename': 'Sreenivasulu Akkem', 'sal': 20000.5, 'gender': 'male', 'dno': 11}\n",
      "Only Keys:\n",
      "dict_keys(['empno', 'ename', 'sal', 'gender', 'dno'])\n",
      "Only Values:\n",
      "dict_values([101, 'Sreenivasulu Akkem', 20000.5, 'male', 11])\n",
      "Iterating using loop:\n",
      "key is: empno ... value is: 101\n",
      "key is: ename ... value is: Sreenivasulu Akkem\n",
      "key is: sal ... value is: 20000.5\n",
      "key is: gender ... value is: male\n",
      "key is: dno ... value is: 11\n"
     ]
    }
   ],
   "source": [
    "d1 = {\n",
    "    \"empno\":101,\n",
    "    \"ename\":'Sreenivasulu Akkem',\n",
    "    \"sal\": 20000.50,\n",
    "    \"gender\":'male',\n",
    "    \"dno\":11\n",
    "}\n",
    "print(\"Complete Dictionary Object is:\")\n",
    "print(d1)\n",
    "print(\"Only Keys:\")\n",
    "print(d1.keys())\n",
    "print(\"Only Values:\")\n",
    "print(d1.values())\n",
    "print(\"Iterating using loop:\")\n",
    "for key,value in d1.items():\n",
    "    print(\"key is:\",key,'...',\"value is:\",value)"
   ]
  },
  {
   "cell_type": "code",
   "execution_count": null,
   "id": "dd952cdc",
   "metadata": {},
   "outputs": [],
   "source": []
  },
  {
   "cell_type": "markdown",
   "id": "3f85910f",
   "metadata": {},
   "source": [
    "## <center> Control Statements in Python <center> \n",
    "### 1.Conditional Control Statements.\n",
    "### 2.Transfer Control Statements.\n",
    "### 3.Iterative Statements."
   ]
  },
  {
   "cell_type": "code",
   "execution_count": null,
   "id": "9449f61e",
   "metadata": {},
   "outputs": [],
   "source": []
  },
  {
   "cell_type": "markdown",
   "id": "fc9be28e",
   "metadata": {},
   "source": [
    "## Conditional Control Statement"
   ]
  },
  {
   "cell_type": "markdown",
   "id": "b12015d9",
   "metadata": {},
   "source": [
    "## if"
   ]
  },
  {
   "cell_type": "code",
   "execution_count": 25,
   "id": "b1e5af08",
   "metadata": {},
   "outputs": [
    {
     "name": "stdout",
     "output_type": "stream",
     "text": [
      "Enter a First Number:5\n",
      "Enter a Second Number:10\n",
      "A is: 5\n",
      "B is: 10\n",
      "B is Big\n"
     ]
    }
   ],
   "source": [
    "#Finding Biggest of Two Numbers\n",
    "a = int(input(\"Enter a First Number:\"))\n",
    "b = int(input(\"Enter a Second Number:\"))\n",
    "print(\"A is:\",a)\n",
    "print(\"B is:\",b)\n",
    "if a>b:\n",
    "    print(\"A is Big\")\n",
    "    \n",
    "if b>a:\n",
    "    print(\"B is Big\")"
   ]
  },
  {
   "cell_type": "code",
   "execution_count": null,
   "id": "d0af46b1",
   "metadata": {},
   "outputs": [],
   "source": []
  },
  {
   "cell_type": "markdown",
   "id": "fa0bb3ca",
   "metadata": {},
   "source": [
    "### If-else"
   ]
  },
  {
   "cell_type": "code",
   "execution_count": 2,
   "id": "924cea05",
   "metadata": {},
   "outputs": [
    {
     "name": "stdout",
     "output_type": "stream",
     "text": [
      "Enter a First Number:5\n",
      "Enter a Second Number:10\n",
      "A is: 5\n",
      "B is: 10\n",
      "B is Big\n"
     ]
    }
   ],
   "source": [
    "#Finding Biggest of Two Numbers\n",
    "a = int(input(\"Enter a First Number:\"))\n",
    "b = int(input(\"Enter a Second Number:\"))\n",
    "print(\"A is:\",a)\n",
    "print(\"B is:\",b)\n",
    "if a>b:\n",
    "    print(\"A is Big\")    \n",
    "else:\n",
    "    print(\"B is Big\")"
   ]
  },
  {
   "cell_type": "code",
   "execution_count": null,
   "id": "ba141c50",
   "metadata": {},
   "outputs": [],
   "source": []
  },
  {
   "cell_type": "markdown",
   "id": "a2125ad8",
   "metadata": {},
   "source": [
    "### If-elif-else ladder"
   ]
  },
  {
   "cell_type": "code",
   "execution_count": 5,
   "id": "9bf842f0",
   "metadata": {},
   "outputs": [
    {
     "name": "stdout",
     "output_type": "stream",
     "text": [
      "Enter a First Number:10\n",
      "Enter a Second Number:5\n",
      "Enter a Third Number:15\n",
      "A is: 10\n",
      "B is: 5\n",
      "C is: 15\n",
      "C is Big\n"
     ]
    }
   ],
   "source": [
    "#Finding Biggest of Three Numbers\n",
    "a = int(input(\"Enter a First Number:\"))\n",
    "b = int(input(\"Enter a Second Number:\"))\n",
    "c = int(input(\"Enter a Third Number:\"))\n",
    "print(\"A is:\",a)\n",
    "print(\"B is:\",b)\n",
    "print(\"C is:\",c)\n",
    "if a>b and a>c:\n",
    "    print(\"A is Big\")    \n",
    "elif b>c:\n",
    "    print(\"B is Big\")\n",
    "else:\n",
    "    print(\"C is Big\")"
   ]
  },
  {
   "cell_type": "code",
   "execution_count": null,
   "id": "8002d537",
   "metadata": {},
   "outputs": [],
   "source": []
  },
  {
   "cell_type": "markdown",
   "id": "87e5c38e",
   "metadata": {},
   "source": [
    "## Iterative Statements"
   ]
  },
  {
   "cell_type": "markdown",
   "id": "4dbd8e81",
   "metadata": {},
   "source": [
    "### for"
   ]
  },
  {
   "cell_type": "code",
   "execution_count": 6,
   "id": "b57bd316",
   "metadata": {},
   "outputs": [
    {
     "name": "stdout",
     "output_type": "stream",
     "text": [
      "10\n",
      "20\n",
      "30\n",
      "40\n",
      "50\n"
     ]
    }
   ],
   "source": [
    "li = [10,20,30,40,50]\n",
    "for v in li:\n",
    "    print(v)"
   ]
  },
  {
   "cell_type": "code",
   "execution_count": null,
   "id": "b00cc43f",
   "metadata": {},
   "outputs": [],
   "source": []
  },
  {
   "cell_type": "markdown",
   "id": "7d7d267a",
   "metadata": {},
   "source": [
    "### While"
   ]
  },
  {
   "cell_type": "code",
   "execution_count": 7,
   "id": "e8ec2c03",
   "metadata": {},
   "outputs": [
    {
     "name": "stdout",
     "output_type": "stream",
     "text": [
      "1\n",
      "2\n",
      "3\n",
      "4\n",
      "5\n",
      "6\n",
      "7\n",
      "8\n",
      "9\n",
      "10\n"
     ]
    }
   ],
   "source": [
    "#print 1 to 10 numbers\n",
    "i = 1\n",
    "while i<=10:\n",
    "    print(i)\n",
    "    i = i+1"
   ]
  },
  {
   "cell_type": "code",
   "execution_count": null,
   "id": "73089789",
   "metadata": {},
   "outputs": [],
   "source": []
  },
  {
   "cell_type": "code",
   "execution_count": 8,
   "id": "867fdcb6",
   "metadata": {},
   "outputs": [
    {
     "name": "stdout",
     "output_type": "stream",
     "text": [
      "1\n",
      "2\n",
      "3\n",
      "4\n",
      "5\n",
      "6\n",
      "7\n",
      "8\n",
      "9\n",
      "10\n"
     ]
    }
   ],
   "source": [
    "### Same Above if you want to implement using for\n",
    "for v in range(1,11):\n",
    "    print(v)\n"
   ]
  },
  {
   "cell_type": "code",
   "execution_count": 9,
   "id": "6c7d428f",
   "metadata": {},
   "outputs": [
    {
     "name": "stdout",
     "output_type": "stream",
     "text": [
      "10\n",
      "9\n",
      "8\n",
      "7\n",
      "6\n",
      "5\n",
      "4\n",
      "3\n",
      "2\n",
      "1\n"
     ]
    }
   ],
   "source": [
    "#print 1 to 10 numbers in reverse order\n",
    "i = 10\n",
    "while i>=1:\n",
    "    print(i)\n",
    "    i = i-1"
   ]
  },
  {
   "cell_type": "code",
   "execution_count": null,
   "id": "f93fff76",
   "metadata": {},
   "outputs": [],
   "source": []
  },
  {
   "cell_type": "markdown",
   "id": "819aa9c9",
   "metadata": {},
   "source": [
    "## Transfer Control Statements\n",
    "### 1.Break\n",
    "### 2.Continue"
   ]
  },
  {
   "cell_type": "code",
   "execution_count": null,
   "id": "db428a8f",
   "metadata": {},
   "outputs": [],
   "source": []
  },
  {
   "cell_type": "markdown",
   "id": "c56e63a9",
   "metadata": {},
   "source": [
    "### Break Transfer Control Statement"
   ]
  },
  {
   "cell_type": "code",
   "execution_count": 11,
   "id": "44bc3189",
   "metadata": {},
   "outputs": [
    {
     "name": "stdout",
     "output_type": "stream",
     "text": [
      "1\n",
      "2\n",
      "3\n",
      "4\n"
     ]
    }
   ],
   "source": [
    "for v in range(1,11):\n",
    "    if v==5:\n",
    "        break\n",
    "    print(v)"
   ]
  },
  {
   "cell_type": "code",
   "execution_count": 12,
   "id": "8573936d",
   "metadata": {},
   "outputs": [
    {
     "name": "stdout",
     "output_type": "stream",
     "text": [
      "1\n",
      "2\n",
      "3\n",
      "4\n"
     ]
    }
   ],
   "source": [
    "i = 1\n",
    "while i<=10:\n",
    "    if i==5:\n",
    "        break\n",
    "    print(i)\n",
    "    i = i+1"
   ]
  },
  {
   "cell_type": "code",
   "execution_count": null,
   "id": "d2c36fa8",
   "metadata": {},
   "outputs": [],
   "source": []
  },
  {
   "cell_type": "markdown",
   "id": "faf413ec",
   "metadata": {},
   "source": [
    "### Continue Transfer Control Statement"
   ]
  },
  {
   "cell_type": "code",
   "execution_count": 13,
   "id": "2be5300d",
   "metadata": {},
   "outputs": [
    {
     "name": "stdout",
     "output_type": "stream",
     "text": [
      "1\n",
      "2\n",
      "3\n",
      "4\n",
      "6\n",
      "7\n",
      "8\n",
      "9\n",
      "10\n"
     ]
    }
   ],
   "source": [
    "for v in range(1,11):\n",
    "    if v==5:\n",
    "        continue\n",
    "    print(v)"
   ]
  },
  {
   "cell_type": "code",
   "execution_count": null,
   "id": "b8cb91aa",
   "metadata": {},
   "outputs": [],
   "source": []
  },
  {
   "cell_type": "code",
   "execution_count": 2,
   "id": "5408cc7a",
   "metadata": {},
   "outputs": [
    {
     "name": "stdout",
     "output_type": "stream",
     "text": [
      "1\n",
      "2\n",
      "3\n",
      "4\n",
      "6\n",
      "7\n",
      "8\n",
      "9\n",
      "10\n"
     ]
    }
   ],
   "source": [
    "i = 0\n",
    "while i<10:\n",
    "    i = i+1\n",
    "    if i==5:\n",
    "        continue\n",
    "    print(i)    "
   ]
  },
  {
   "cell_type": "code",
   "execution_count": null,
   "id": "ed60b80b",
   "metadata": {},
   "outputs": [],
   "source": []
  },
  {
   "cell_type": "markdown",
   "id": "d0b31a84",
   "metadata": {},
   "source": [
    "## <center> Python Modules </center> \n",
    "### Python Module means Any .py file or Any Python Program or Any Python Application\n",
    "### Every Python Module May Contains\n",
    "### Python Variables,\n",
    "### Python Statements,\n",
    "### Python Functions,\n",
    "### Python Classes and Objects.\n",
    "### The main advantage of Python Module is re-usability, We can re-use one python module members into another python module with re-developing\n"
   ]
  },
  {
   "cell_type": "code",
   "execution_count": null,
   "id": "726a6c7d",
   "metadata": {},
   "outputs": [],
   "source": []
  },
  {
   "cell_type": "markdown",
   "id": "5afd8bd6",
   "metadata": {},
   "source": [
    "## <center> Python Procedure Oriented Programming </center>"
   ]
  },
  {
   "cell_type": "markdown",
   "id": "d24fe08b",
   "metadata": {},
   "source": [
    "### E.g1:- Function without Parameters"
   ]
  },
  {
   "cell_type": "code",
   "execution_count": 1,
   "id": "61a2b5de",
   "metadata": {},
   "outputs": [],
   "source": [
    "# Function Definition\n",
    "a = 10\n",
    "b = 5\n",
    "def sum():\n",
    "    res = a+b\n",
    "    print(\"A is:\",a)\n",
    "    print(\"B is:\",b)\n",
    "    print(\"Sum of A,B is:\",res)"
   ]
  },
  {
   "cell_type": "code",
   "execution_count": 2,
   "id": "b3c59cee",
   "metadata": {},
   "outputs": [
    {
     "name": "stdout",
     "output_type": "stream",
     "text": [
      "A is: 10\n",
      "B is: 5\n",
      "Sum of A,B is: 15\n"
     ]
    }
   ],
   "source": [
    "# Function Call\n",
    "sum()"
   ]
  },
  {
   "cell_type": "code",
   "execution_count": null,
   "id": "b869c2d0",
   "metadata": {},
   "outputs": [],
   "source": []
  },
  {
   "cell_type": "markdown",
   "id": "7bddcfb1",
   "metadata": {},
   "source": [
    "### E.g2:- Function with Parameters"
   ]
  },
  {
   "cell_type": "code",
   "execution_count": 3,
   "id": "42d7e5b0",
   "metadata": {},
   "outputs": [],
   "source": [
    "# Function Definition\n",
    "def sum(a,b):\n",
    "    res = a+b\n",
    "    print(\"A is:\",a)\n",
    "    print(\"B is:\",b)\n",
    "    print(\"Sum of A,B is:\",res) "
   ]
  },
  {
   "cell_type": "code",
   "execution_count": 4,
   "id": "ea2a784f",
   "metadata": {},
   "outputs": [
    {
     "name": "stdout",
     "output_type": "stream",
     "text": [
      "Enter First Number:100\n",
      "Enter Second Number:200\n",
      "A is: 100\n",
      "B is: 200\n",
      "Sum of A,B is: 300\n"
     ]
    }
   ],
   "source": [
    "# function Call\n",
    "a = int(input(\"Enter First Number:\"))\n",
    "b = int(input(\"Enter Second Number:\"))\n",
    "sum(a,b)"
   ]
  },
  {
   "cell_type": "code",
   "execution_count": null,
   "id": "c5e6dc49",
   "metadata": {},
   "outputs": [],
   "source": []
  },
  {
   "cell_type": "markdown",
   "id": "4be33ac8",
   "metadata": {},
   "source": [
    "### E.g3:- Function with Return Type"
   ]
  },
  {
   "cell_type": "code",
   "execution_count": 8,
   "id": "fb811f12",
   "metadata": {},
   "outputs": [],
   "source": [
    "# function definition\n",
    "def sum3(a,b):\n",
    "    res = a+b\n",
    "    return res"
   ]
  },
  {
   "cell_type": "code",
   "execution_count": null,
   "id": "37008b0f",
   "metadata": {},
   "outputs": [],
   "source": []
  },
  {
   "cell_type": "code",
   "execution_count": 9,
   "id": "54fc6a14",
   "metadata": {},
   "outputs": [
    {
     "name": "stdout",
     "output_type": "stream",
     "text": [
      "Enter First Number:1000\n",
      "Enter Second Number:2000\n",
      "A is: 1000\n",
      "B is: 2000\n",
      "Sum of A,B is: 3000\n"
     ]
    }
   ],
   "source": [
    "# function Call\n",
    "a = int(input(\"Enter First Number:\"))\n",
    "b = int(input(\"Enter Second Number:\"))\n",
    "r = sum3(a,b)\n",
    "print(\"A is:\",a)\n",
    "print(\"B is:\",b)\n",
    "print(\"Sum of A,B is:\",r) "
   ]
  },
  {
   "cell_type": "code",
   "execution_count": null,
   "id": "4825689d",
   "metadata": {},
   "outputs": [],
   "source": []
  },
  {
   "cell_type": "markdown",
   "id": "1c156750",
   "metadata": {},
   "source": [
    "### Python Lambda Functions"
   ]
  },
  {
   "cell_type": "code",
   "execution_count": 11,
   "id": "43af04de",
   "metadata": {},
   "outputs": [],
   "source": [
    "#lambda function definition\n",
    "square = lambda x : x*x"
   ]
  },
  {
   "cell_type": "code",
   "execution_count": 12,
   "id": "d621462a",
   "metadata": {},
   "outputs": [
    {
     "name": "stdout",
     "output_type": "stream",
     "text": [
      "Enter any number:10\n",
      "Input is: 10\n",
      "Square of Input is: 100\n"
     ]
    }
   ],
   "source": [
    "# lambda function call\n",
    "n = int(input(\"Enter any number:\"))\n",
    "print(\"Input is:\",n)\n",
    "print(\"Square of Input is:\",square(n))"
   ]
  },
  {
   "cell_type": "code",
   "execution_count": null,
   "id": "941c9aea",
   "metadata": {},
   "outputs": [],
   "source": []
  },
  {
   "cell_type": "markdown",
   "id": "b1e058ec",
   "metadata": {},
   "source": [
    "### E.g2:- Lambda Function with Multiple Arguments"
   ]
  },
  {
   "cell_type": "code",
   "execution_count": 13,
   "id": "28d544f0",
   "metadata": {},
   "outputs": [],
   "source": [
    "#lambda function definition with multiple parameters\n",
    "big = lambda x,y: x if x>y else y"
   ]
  },
  {
   "cell_type": "code",
   "execution_count": 14,
   "id": "565516df",
   "metadata": {},
   "outputs": [
    {
     "name": "stdout",
     "output_type": "stream",
     "text": [
      "Enter a First Number:10\n",
      "Enter a Second Number:20\n",
      "First Number is: 10\n",
      "Second Number is: 20\n",
      "Big Numbers is: 20\n"
     ]
    }
   ],
   "source": [
    "#lambda function call\n",
    "a = int(input(\"Enter a First Number:\"))\n",
    "b = int(input(\"Enter a Second Number:\"))\n",
    "res = big(a,b)\n",
    "print(\"First Number is:\",a)\n",
    "print(\"Second Number is:\",b)\n",
    "print(\"Big Numbers is:\",res)"
   ]
  },
  {
   "cell_type": "code",
   "execution_count": null,
   "id": "6ffbf50f",
   "metadata": {},
   "outputs": [],
   "source": []
  },
  {
   "cell_type": "markdown",
   "id": "6330f389",
   "metadata": {},
   "source": [
    "## <center> Python Object Oriented Programming </center>"
   ]
  },
  {
   "cell_type": "code",
   "execution_count": 1,
   "id": "fcb00857",
   "metadata": {},
   "outputs": [
    {
     "name": "stdout",
     "output_type": "stream",
     "text": [
      "Employee1 Details:\n",
      "Enter Emp1 Number:101\n",
      "Enter Emp1 Name:Sreenivasulu\n",
      "Enter Emp1 Salary:20000\n",
      "Empno is: 101\n",
      "EName is: Sreenivasulu\n",
      "Emp Salary is: 20000\n"
     ]
    }
   ],
   "source": [
    "## Class definition\n",
    "class Employee:\n",
    "    def __init__(self,empno,ename,sal):\n",
    "        self.empno=empno\n",
    "        self.ename=ename\n",
    "        self.sal=sal\n",
    "    \n",
    "    def displayEmployee(self):\n",
    "        print(\"Empno is:\",self.empno)\n",
    "        print(\"EName is:\",self.ename)\n",
    "        print(\"Emp Salary is:\",self.sal)\n",
    "        \n",
    "##Object creation\n",
    "print(\"Employee1 Details:\")\n",
    "empno1 = int(input(\"Enter Emp1 Number:\"))\n",
    "ename1 = input(\"Enter Emp1 Name:\")\n",
    "esal1 = int(input(\"Enter Emp1 Salary:\"))\n",
    "e1 = Employee(empno1,ename1,esal1)\n",
    "e1.displayEmployee()"
   ]
  },
  {
   "cell_type": "code",
   "execution_count": null,
   "id": "ba514f88",
   "metadata": {},
   "outputs": [],
   "source": []
  },
  {
   "cell_type": "code",
   "execution_count": null,
   "id": "ccd2e115",
   "metadata": {},
   "outputs": [],
   "source": []
  },
  {
   "cell_type": "code",
   "execution_count": null,
   "id": "f8c1684b",
   "metadata": {},
   "outputs": [],
   "source": []
  },
  {
   "cell_type": "code",
   "execution_count": null,
   "id": "17005a86",
   "metadata": {},
   "outputs": [],
   "source": []
  },
  {
   "cell_type": "code",
   "execution_count": null,
   "id": "18e1ad54",
   "metadata": {},
   "outputs": [],
   "source": []
  }
 ],
 "metadata": {
  "kernelspec": {
   "display_name": "Python 3 (ipykernel)",
   "language": "python",
   "name": "python3"
  },
  "language_info": {
   "codemirror_mode": {
    "name": "ipython",
    "version": 3
   },
   "file_extension": ".py",
   "mimetype": "text/x-python",
   "name": "python",
   "nbconvert_exporter": "python",
   "pygments_lexer": "ipython3",
   "version": "3.9.13"
  }
 },
 "nbformat": 4,
 "nbformat_minor": 5
}
